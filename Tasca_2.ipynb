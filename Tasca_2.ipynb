{
  "nbformat": 4,
  "nbformat_minor": 0,
  "metadata": {
    "colab": {
      "provenance": [],
      "authorship_tag": "ABX9TyNPxEiImJTFCOLuVAQRh98H",
      "include_colab_link": true
    },
    "kernelspec": {
      "name": "python3",
      "display_name": "Python 3"
    },
    "language_info": {
      "name": "python"
    }
  },
  "cells": [
    {
      "cell_type": "markdown",
      "metadata": {
        "id": "view-in-github",
        "colab_type": "text"
      },
      "source": [
        "<a href=\"https://colab.research.google.com/github/JoanraGimenez/SSN/blob/main/Tasca_2.ipynb\" target=\"_parent\"><img src=\"https://colab.research.google.com/assets/colab-badge.svg\" alt=\"Open In Colab\"/></a>"
      ]
    },
    {
      "cell_type": "markdown",
      "source": [
        " **TASCA 2: Mètodes numèrics sessió 20/2/2025**\n",
        "\n",
        " **1.- Revisar els exemples del mètode numèric proposat per R. Feynmann per a resoldre les equacions del moviment i la seva implementació en python (script o Google Colab) així com el material discutit a classe durant aquesta setmana.**\n",
        "\n",
        "**a) Escriure les equacions que descriuen l'evolució de la posició i de la velocitat en aquest mètode (en general, no per un exemple específic) i compareu-les amb les equacions corresponents al mètode de velocity Verlet.**\n",
        "\n",
        "En el primer pas del mètode de Feynman es calcula la velocitat a la meitat del pas de temps establert (dt/2) i l'usem per calcular la posicio passat un diferencial de temps, $dt$.\n",
        "\n",
        "El mètode de Feynman calcula la nova velocitat a partir de l'acceleració i la meitat del diferencial de temps.\n",
        "\n",
        "$v_ {0.5}=v_0+\\frac{dt}{2}·a$\n",
        "\n",
        "Per calcular la posició amb aquest mètode es fa amb el diferencial de temps complet, és a dir, $t+dt$ i usant la velocitat a mitja passa calculada anteriorment. És calcula també una nova acceleració en aquest pas. L'equació de la posició queda de la següent manera:\n",
        "$x(1)=x(0)+dt·v_ {0.5}$\n",
        "\n",
        "De forma general,\n",
        "\n",
        "$x(i+1)=x(i)+dt·v_ {0.5}$\n",
        "\n",
        "on $x$ només depèn de $i$ ja que la velocitat i l'acceleració canvien constantment.\n",
        "\n",
        "Si ara per contra mirem el mètode de *velocity Verlet*, veiem que no tenim en compte la velocita a mitja passa sinó que tenim en compte tot l'interval $dt$.\n",
        "\n",
        "En aquest cas, i a diferència del mètode de Feynman és que calculem la velocitat a partir de l'acceleració mitjana entre dos punts i la fem servir per definir la velocitat, seguint la segona llei de Newton. Les equacions que usem son:\n",
        "\n",
        "$x(i)= x(i-1)+v(i-1)·dt+\\frac{a(i-1}{2}·dt^2$\n",
        "$v(i)=v(i-1)+ dt·a_m$\n",
        "\n",
        ", on     $a_m=\\frac{a(i-1)+a(i)}{2}$\n",
        "\n",
        "Un cop vist els dos mètodes veiem quq la diferència recau en la correcció que apliquem en l'acceleració.\n",
        "\n",
        "\n",
        "**b) En el programa d'exemple del mètode de Velocity Verlet (i en el del mètode d'Euler també) en cada pas de temps dt avaluem l'energia total (potencial i cinètica) per tal de verificar la conservació de l'energia. En canvi, això no està implementat en els exemples del mètode proposat per Feynmann. Perquè? Proposa una modificació que implementi aquest càlcul.**\n",
        "\n",
        "En el mètode de Feynman no es calcula l'energia ja que estem mirant la velocitat i la posició en diferents moments de temps. Tot i això el mètode de Feynman conserva l'energia, ja que fluctua entre un màxim i un mínim.\n",
        "Igual que vam fer amb els altres mètodes podem implementar un model de moviment harmònic amb el mètode de Feynman, afegint el càlcul per l'energia.\n",
        "Per fer-ho hauriem de crear un bucle que ens calculi l'energia a cada pas i actualitzi els valors de posició, temps, velocitat i energia amb les expressions que hem mostrat anteriorment. Representant el quaciont entre l'energia i l'energia inicial podem veure si es compleix la conservació de l'energia.\n",
        "\n"
      ],
      "metadata": {
        "id": "c42U1f9plB2Y"
      }
    },
    {
      "cell_type": "code",
      "source": [
        "# En primer lloc cal importar les llibreries\n",
        "import numpy as np\n",
        "import matplotlib.pyplot as plt"
      ],
      "metadata": {
        "id": "I8JI_tbraXAq"
      },
      "execution_count": 1,
      "outputs": []
    },
    {
      "cell_type": "code",
      "execution_count": 2,
      "metadata": {
        "colab": {
          "base_uri": "https://localhost:8080/"
        },
        "id": "jdtCXfDnkqfT",
        "outputId": "63a77cc0-ee17-4643-87c1-788660ec65cb"
      },
      "outputs": [
        {
          "output_type": "stream",
          "name": "stdout",
          "text": [
            "Temps total de simulació: 5.0 s\n"
          ]
        }
      ],
      "source": [
        "# Definim els paràmetres del nostre sistema\n",
        "m = 1.0                # Massa\n",
        "T = 1                  # Període\n",
        "w = 2.0 * np.pi / T    # Freqüència\n",
        "k = m * w**2           # Constant de molla\n",
        "\n",
        "# Condicions inicials\n",
        "x0 = 1.0               # Posició inicial\n",
        "v0 = 0.0               # Velocitat inicial\n",
        "\n",
        "# Energia inicial\n",
        "E0 = (m / 2.0) * v0**2 + (k / 2) * x0**2\n",
        "\n",
        "# Interval de temps\n",
        "dt = 0.1              # Pas de temps\n",
        "ntot = 50             # Nombre de passos\n",
        "\n",
        "print('Temps total de simulació:', dt * ntot, 's')\n"
      ]
    },
    {
      "cell_type": "code",
      "source": [
        "# Inicialitzem vectors\n",
        "x = np.zeros(ntot + 1)  # Posició\n",
        "v = np.zeros(ntot + 1)  # Velocitat\n",
        "t = np.zeros(ntot + 1)  # Temps\n",
        "ER = np.zeros(ntot + 1) # Energia normalitzada\n",
        "\n",
        "# Assignem les condicions inicials\n",
        "x[0] = x0\n",
        "v[0] = v0\n",
        "t[0] = 0\n",
        "\n",
        "# Acceleració inicial\n",
        "a = - x[0] / m\n",
        "print('a temps t=0','x=',x[0],\", v=\",v[0],\", a=\",a)"
      ],
      "metadata": {
        "colab": {
          "base_uri": "https://localhost:8080/"
        },
        "id": "OAR2T4HIcEnB",
        "outputId": "45c3f10e-2bfc-49e1-8728-74495b42f32f"
      },
      "execution_count": 3,
      "outputs": [
        {
          "output_type": "stream",
          "name": "stdout",
          "text": [
            "a temps t=0 x= 1.0 , v= 0.0 , a= -1.0\n"
          ]
        }
      ]
    },
    {
      "cell_type": "code",
      "source": [
        "# Calculem la velocitat a mitja passa (dt/2)\n",
        "v_mp = v[0] + (dt / 2.0) * a\n",
        "print('v(mitja passa)=', v_mp)\n"
      ],
      "metadata": {
        "colab": {
          "base_uri": "https://localhost:8080/"
        },
        "id": "0pMlvqSElo3C",
        "outputId": "a3ff3cce-9e73-43bd-bbca-a3671a31d389"
      },
      "execution_count": 4,
      "outputs": [
        {
          "output_type": "stream",
          "name": "stdout",
          "text": [
            "v(mitja passa)= -0.05\n"
          ]
        }
      ]
    },
    {
      "cell_type": "code",
      "source": [
        "i=0\n",
        "# Bucle principal per calcular l'evolució temporal\n",
        "while i<ntot:\n",
        "\n",
        "  # Actualitzem la posició\n",
        "  x[i + 1] = x[i] + dt * v_mp\n",
        "\n",
        "   # Actualitzem el temps\n",
        "  t[i + 1] = t[i] + dt\n",
        "\n",
        "    # Calculem la nova acceleració\n",
        "  a = -x[i]\n",
        "\n",
        "    # Actualitzem la velocitat a mitja passa\n",
        "  v_mp= v_mp + dt * a\n",
        "\n",
        "    #Actualitzem el contador\n",
        "  i=i+1\n",
        "\n",
        "    # Calculem l'energia total\n",
        "  E = (m / 2.0) * v[i]**2 + (k / 2.0) * x[i]**2\n",
        "\n",
        "    # Normalitzem l'energia\n",
        "  ER[i] = E / E0\n",
        "\n",
        "  print(\"step\", i, ' t= ', round(t[i], 3), ' x=', round(x[i], 3), 'E/E0= ', ER[i])"
      ],
      "metadata": {
        "id": "w_0HCokvc3T2"
      },
      "execution_count": null,
      "outputs": []
    },
    {
      "cell_type": "code",
      "source": [
        "# Representem l'energia normalitzada en funció del temps\n",
        "plt.plot(t, ER)\n",
        "plt.xlabel('Temps (s)')\n",
        "plt.ylabel('E / E0')\n",
        "plt.title('Conservació de l\\'energia en el mètode de Feynman')\n",
        "plt.show()\n"
      ],
      "metadata": {
        "id": "dzD2rnPDgm8D"
      },
      "execution_count": null,
      "outputs": []
    },
    {
      "cell_type": "markdown",
      "source": [
        "L'energia pren una forma periòdica i per tant es conserva"
      ],
      "metadata": {
        "id": "Dmq2fI5WqAtM"
      }
    },
    {
      "cell_type": "markdown",
      "source": [
        "**c) Compara la modificació proposada a (b) amb el mètode de Velocity Verlet.**\n",
        "\n",
        " Per comparar-ho amb el mètode de Velocity Verlet farem servi un codi, amb les mateixes condicions que abans.\n"
      ],
      "metadata": {
        "id": "2OPJQ69zXgha"
      }
    },
    {
      "cell_type": "code",
      "source": [
        "# Massa\n",
        "m = 1.0\n",
        "# Període\n",
        "T = 1.0\n",
        "#fFreqüència\n",
        "w = 2.0*np.pi/T\n",
        "#Constant de força\n",
        "k=m*w*w\n",
        "#Condicions inicials\n",
        "x0=1.0\n",
        "v0=0.0\n",
        "# Energia inicial\n",
        "E0=(m/2.0)*v0**2+(k/2)*x0**2"
      ],
      "metadata": {
        "id": "plIp9T2SYExR"
      },
      "execution_count": 23,
      "outputs": []
    },
    {
      "cell_type": "code",
      "source": [
        "# Diferencial de temps\n",
        "dt = 0.1\n",
        "# Passos totals\n",
        "ntot = 16\n",
        "\n",
        "t = np.zeros(ntot+1)\n",
        "x = np.zeros(ntot+1)\n",
        "v = np.zeros(ntot+1)\n",
        "a = np.zeros(ntot+1)\n",
        "\n",
        "#Condicions incials\n",
        "x[0] = x0\n",
        "v[0] = v0\n",
        "f = -k*x[0]\n",
        "a[0] = f/m\n"
      ],
      "metadata": {
        "id": "NMClTnfZYOxc"
      },
      "execution_count": 24,
      "outputs": []
    },
    {
      "cell_type": "code",
      "source": [
        " #Evolució temporal\n",
        "\n",
        "for i in range(0, ntot):\n",
        "    print(\"step\",i,' t= ',round(t[i],3),' x=',round(x[i],3))\n",
        "\n",
        "    # Actualitzem el temps\n",
        "    t[i+1] = t[i]+dt\n",
        "\n",
        "    # Nova posició\n",
        "    x[i+1] = x[i]+v[i]*dt+(1.0/2.0)*a[i]*dt*dt\n",
        "\n",
        "    # Força a la nova posició\n",
        "    f = -k*x[i+1]\n",
        "    # Calcul d'acceleració\n",
        "    a[i] = f/m\n",
        "\n",
        "    # Velocitat a la nova posició\n",
        "    am=(a[i]+a[i+1])/2.0\n",
        "    v[i+1]= v[i]+am*dt\n",
        "\n",
        "    #Actualitzem el temps\n",
        "    t[i+1] = t[i]+dt"
      ],
      "metadata": {
        "colab": {
          "base_uri": "https://localhost:8080/"
        },
        "id": "KHSDzuXiYTQO",
        "outputId": "3419ffde-6f98-46ba-c874-04982e6e7550"
      },
      "execution_count": 25,
      "outputs": [
        {
          "output_type": "stream",
          "name": "stdout",
          "text": [
            "step 0  t=  0.0  x= 1.0\n",
            "step 1  t=  0.1  x= 0.803\n",
            "step 2  t=  0.2  x= 0.644\n",
            "step 3  t=  0.3  x= 0.359\n",
            "step 4  t=  0.4  x= 0.002\n",
            "step 5  t=  0.5  x= -0.355\n",
            "step 6  t=  0.6  x= -0.641\n",
            "step 7  t=  0.7  x= -0.802\n",
            "step 8  t=  0.8  x= -0.804\n",
            "step 9  t=  0.9  x= -0.647\n",
            "step 10  t=  1.0  x= -0.363\n",
            "step 11  t=  1.1  x= -0.007\n",
            "step 12  t=  1.2  x= 0.351\n",
            "step 13  t=  1.3  x= 0.639\n",
            "step 14  t=  1.4  x= 0.801\n",
            "step 15  t=  1.5  x= 0.805\n"
          ]
        }
      ]
    },
    {
      "cell_type": "code",
      "source": [
        "#Ho grafiquem:\n",
        "#Energia\n",
        "E=(m/2.0)*v*v+(k/2)*x*x\n",
        "#Energia relativa (E/E0)\n",
        "ER=E/E0\n",
        "#Fem la gràfica de la relació d'energies respecte el temps\n",
        "plt.plot(t,ER,'k')\n",
        "plt.xlabel('time (ns)')\n",
        "plt.ylabel('E/E0')\n",
        "#Mostrar la gràfica\n",
        "plt.show()"
      ],
      "metadata": {
        "colab": {
          "base_uri": "https://localhost:8080/",
          "height": 449
        },
        "id": "IKPxSbZvZVTr",
        "outputId": "b868f871-1263-4a65-f508-8a580ab61c49"
      },
      "execution_count": 26,
      "outputs": [
        {
          "output_type": "display_data",
          "data": {
            "text/plain": [
              "<Figure size 640x480 with 1 Axes>"
            ],
            "image/png": "[encoded data removed]"
          },
          "metadata": {}
        }
      ]
    },
    {
      "cell_type": "markdown",
      "source": [
        "Veiem com en aquest cas, l'energia també és periòdica pero hi ha petites variacions degudes a errors numèrics, ja que l'aproximació amb la mitjana no és exacta. Tot i això, l'energia també es conserva en aquest mètode."
      ],
      "metadata": {
        "id": "GgFfmFnmZd9t"
      }
    },
    {
      "cell_type": "markdown",
      "source": [
        "**2.- Escriviu l'equació d'Schrödinger en unitats SI i en unitats atòmiques per un exemple que hagiu estudiat en les assignatures prèvies (per exemple, a Fenòmens Quantics I, II o a qualsevol altre). Podeu revisar la definició d'unitats atòmiques en qualsevol dels links sobre aquestes unitats que teniu al Campus Virtual (per exemple el link a Libre Text) o bé dels vostres apunts d'altres assignatures.**\n",
        "\n",
        "A Fenòmens Quàntics II vam estudiar diferents pous de potencial. Un dels exemples és el d’un electró en un pou de potencial infinit i en 1D.\n",
        "\n",
        "Si resolem l'equació d'Schrödinger en unitats SI per aquest cas, entre $x=0$ i $x=L$. podem obtenir els valors d'energies permeses:\n",
        "$\\frac{\\hbar^2}{2m}\\frac{d^2\\psi(x)}{dx^2}=E\\psi(x)$\n",
        "\n",
        "$E_n=\\frac{n^2\\pi^2\\hbar^2}{2mL^2}\\space amb\\space n=1,2,3,...$\n",
        "\n",
        "Això en Sistema Internacional. Si volem expressar-ho en Unitats atòmiques haurem de tenir en compte les següents consideracions:\n",
        "$\\hbar=1,  m_e=1,  a_0=1 \\space\\space i\\space\\space\\space   E_h=1$\n",
        "\n",
        "Ara obtindrem el següent:\n",
        "\n",
        "$\\frac{1}{2}\\frac{d^2\\psi(x)}{dx^2}=E\\psi(x)$\n",
        "i per les energies:\n",
        "$E_n=\\frac{n^2\\pi^2}{2L^2}\\space amb\\space n=1,2,3,...$\n",
        "\n",
        "Veiem doncs que per aquest tipus de problemes, treballar amb notació d'unitats atòmiques ens simplifica les expressions."
      ],
      "metadata": {
        "id": "ADMJbrQGZ1b0"
      }
    }
  ]
}